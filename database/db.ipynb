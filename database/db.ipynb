{
 "cells": [
  {
   "cell_type": "code",
   "execution_count": 7,
   "metadata": {},
   "outputs": [],
   "source": [
    "from datetime import datetime\n",
    "from dataclasses import dataclass\n",
    "\n",
    "\n",
    "@dataclass\n",
    "class Post:\n",
    "    id: int\n",
    "    title: str\n",
    "    content: str\n",
    "    date: datetime"
   ]
  },
  {
   "cell_type": "code",
   "execution_count": null,
   "metadata": {},
   "outputs": [],
   "source": [
    "import os\n",
    "from dotenv import load_dotenv\n",
    "\n",
    "\n",
    "load_dotenv()\n",
    "\n",
    "DB_HOST = os.environ[\"DB_HOST\"]\n",
    "DB_PORT = int(os.environ[\"DB_PORT\"])\n",
    "DB_USER = os.environ[\"DB_USER\"]\n",
    "DB_PASSWORD = os.environ[\"DB_PASSWORD\"]\n",
    "DB_NAME = os.environ[\"DB_NAME\"]"
   ]
  },
  {
   "cell_type": "code",
   "execution_count": 15,
   "metadata": {},
   "outputs": [],
   "source": [
    "import psycopg2\n",
    "\n",
    "conn = psycopg2.connect(\n",
    "    host=DB_HOST,\n",
    "    port=DB_PORT,\n",
    "    user=DB_USER,\n",
    "    password=DB_PASSWORD,\n",
    "    dbname=DB_NAME,\n",
    ")"
   ]
  },
  {
   "cell_type": "code",
   "execution_count": 16,
   "metadata": {},
   "outputs": [],
   "source": [
    "def create_post(title: str, content: str) -> int:\n",
    "    date = datetime.now()\n",
    "    post = Post(0, title, content, date)\n",
    "\n",
    "    query = \"INSERT INTO posts(title, content, created_at) VALUES (%s, %s, %s) RETURNING id;\"\n",
    "    with conn.cursor() as cur:\n",
    "        cur.execute(query, (post.title, post.content, post.date))\n",
    "        conn.commit()\n",
    "        return cur.fetchone()[0]"
   ]
  },
  {
   "cell_type": "code",
   "execution_count": 17,
   "metadata": {},
   "outputs": [],
   "source": [
    "def get_post_ids() -> list[int]:\n",
    "    query = \"SELECT id FROM posts\"\n",
    "    with conn.cursor() as cur:\n",
    "        cur.execute(query)\n",
    "        ids = [row[0] for row in cur.fetchall()]\n",
    "    return ids"
   ]
  },
  {
   "cell_type": "code",
   "execution_count": null,
   "metadata": {},
   "outputs": [],
   "source": [
    "def get_post(id: int) -> Post:\n",
    "    query = \"SELECT * FROM posts WHERE id = %s;\"\n",
    "    with conn.cursor() as cur:\n",
    "        cur.execute(query, (id,))\n",
    "        raw_data = cur.fetchone()\n",
    "        post = Post(*raw_data)\n",
    "    return post"
   ]
  },
  {
   "cell_type": "code",
   "execution_count": null,
   "metadata": {},
   "outputs": [],
   "source": [
    "def delete_post(id: int) -> None:\n",
    "    query = \"DELETE FROM posts WHERE id = %s;\"\n",
    "    with conn.cursor() as cur:\n",
    "        cur.execute(query, (id,))"
   ]
  },
  {
   "cell_type": "code",
   "execution_count": null,
   "metadata": {},
   "outputs": [],
   "source": [
    "def update_post_title(id: int, title: str) -> None:\n",
    "    query = \"UPDATE posts SET title = %s WHERE id = %s;\"\n",
    "    with conn.cursor() as cur:\n",
    "        cur.execute(query, (title, id))"
   ]
  },
  {
   "cell_type": "code",
   "execution_count": null,
   "metadata": {},
   "outputs": [],
   "source": [
    "def update_post_content(id: int, content: str) -> None:\n",
    "    query = \"UPDATE posts SET content = %s WHERE id = %s;\"\n",
    "    with conn.cursor() as cur:\n",
    "        cur.execute(query, (content, id))"
   ]
  }
 ],
 "metadata": {
  "kernelspec": {
   "display_name": "venv",
   "language": "python",
   "name": "python3"
  },
  "language_info": {
   "codemirror_mode": {
    "name": "ipython",
    "version": 3
   },
   "file_extension": ".py",
   "mimetype": "text/x-python",
   "name": "python",
   "nbconvert_exporter": "python",
   "pygments_lexer": "ipython3",
   "version": "3.11.9"
  }
 },
 "nbformat": 4,
 "nbformat_minor": 2
}
